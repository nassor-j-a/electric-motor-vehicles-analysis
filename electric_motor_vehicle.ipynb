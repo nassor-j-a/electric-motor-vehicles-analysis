{
 "cells": [
  {
   "cell_type": "markdown",
   "metadata": {},
   "source": [
    "Step 1: Load the Dataset"
   ]
  },
  {
   "cell_type": "code",
   "execution_count": 1,
   "metadata": {},
   "outputs": [],
   "source": [
    "import pandas as pd\n",
    "import numpy as np\n",
    "import sklearn\n",
    "import matplotlib.pyplot as plt\n",
    "import seaborn as sns\n",
    "from scipy import stats"
   ]
  },
  {
   "cell_type": "code",
   "execution_count": null,
   "metadata": {},
   "outputs": [
    {
     "name": "stdout",
     "output_type": "stream",
     "text": [
      "<class 'pandas.core.frame.DataFrame'>\n",
      "RangeIndex: 181458 entries, 0 to 181457\n",
      "Data columns (total 17 columns):\n",
      " #   Column                                             Non-Null Count   Dtype  \n",
      "---  ------                                             --------------   -----  \n",
      " 0   VIN (1-10)                                         181458 non-null  object \n",
      " 1   County                                             181455 non-null  object \n",
      " 2   City                                               181455 non-null  object \n",
      " 3   State                                              181458 non-null  object \n",
      " 4   Postal Code                                        181455 non-null  float64\n",
      " 5   Model Year                                         181458 non-null  int64  \n",
      " 6   Make                                               181458 non-null  object \n",
      " 7   Model                                              181458 non-null  object \n",
      " 8   Electric Vehicle Type                              181458 non-null  object \n",
      " 9   Clean Alternative Fuel Vehicle (CAFV) Eligibility  181458 non-null  object \n",
      " 10  Electric Range                                     181458 non-null  int64  \n",
      " 11  Base MSRP                                          181458 non-null  int64  \n",
      " 12  Legislative District                               181060 non-null  float64\n",
      " 13  DOL Vehicle ID                                     181458 non-null  int64  \n",
      " 14  Vehicle Location                                   181450 non-null  object \n",
      " 15  Electric Utility                                   181455 non-null  object \n",
      " 16  2020 Census Tract                                  181455 non-null  float64\n",
      "dtypes: float64(3), int64(4), object(10)\n",
      "memory usage: 23.5+ MB\n"
     ]
    },
    {
     "data": {
      "application/vnd.microsoft.datawrangler.viewer.v0+json": {
       "columns": [
        {
         "name": "index",
         "rawType": "int64",
         "type": "integer"
        },
        {
         "name": "VIN (1-10)",
         "rawType": "object",
         "type": "string"
        },
        {
         "name": "County",
         "rawType": "object",
         "type": "string"
        },
        {
         "name": "City",
         "rawType": "object",
         "type": "string"
        },
        {
         "name": "State",
         "rawType": "object",
         "type": "string"
        },
        {
         "name": "Postal Code",
         "rawType": "float64",
         "type": "float"
        },
        {
         "name": "Model Year",
         "rawType": "int64",
         "type": "integer"
        },
        {
         "name": "Make",
         "rawType": "object",
         "type": "string"
        },
        {
         "name": "Model",
         "rawType": "object",
         "type": "string"
        },
        {
         "name": "Electric Vehicle Type",
         "rawType": "object",
         "type": "string"
        },
        {
         "name": "Clean Alternative Fuel Vehicle (CAFV) Eligibility",
         "rawType": "object",
         "type": "string"
        },
        {
         "name": "Electric Range",
         "rawType": "int64",
         "type": "integer"
        },
        {
         "name": "Base MSRP",
         "rawType": "int64",
         "type": "integer"
        },
        {
         "name": "Legislative District",
         "rawType": "float64",
         "type": "float"
        },
        {
         "name": "DOL Vehicle ID",
         "rawType": "int64",
         "type": "integer"
        },
        {
         "name": "Vehicle Location",
         "rawType": "object",
         "type": "string"
        },
        {
         "name": "Electric Utility",
         "rawType": "object",
         "type": "string"
        },
        {
         "name": "2020 Census Tract",
         "rawType": "float64",
         "type": "float"
        }
       ],
       "conversionMethod": "pd.DataFrame",
       "ref": "84440d90-af90-45a6-a2f4-b1ac1b452d73",
       "rows": [
        [
         "0",
         "WAUTPBFF4H",
         "King",
         "Seattle",
         "WA",
         "98126.0",
         "2017",
         "AUDI",
         "A3",
         "Plug-in Hybrid Electric Vehicle (PHEV)",
         "Not eligible due to low battery range",
         "16",
         "0",
         "34.0",
         "235085336",
         "POINT (-122.374105 47.54468)",
         "CITY OF SEATTLE - (WA)|CITY OF TACOMA - (WA)",
         "53033011500.0"
        ],
        [
         "1",
         "WAUUPBFF2J",
         "Thurston",
         "Olympia",
         "WA",
         "98502.0",
         "2018",
         "AUDI",
         "A3",
         "Plug-in Hybrid Electric Vehicle (PHEV)",
         "Not eligible due to low battery range",
         "16",
         "0",
         "22.0",
         "237896795",
         "POINT (-122.943445 47.059252)",
         "PUGET SOUND ENERGY INC",
         "53067011100.0"
        ],
        [
         "2",
         "5YJSA1E22H",
         "Thurston",
         "Lacey",
         "WA",
         "98516.0",
         "2017",
         "TESLA",
         "MODEL S",
         "Battery Electric Vehicle (BEV)",
         "Clean Alternative Fuel Vehicle Eligible",
         "210",
         "0",
         "22.0",
         "154498865",
         "POINT (-122.78083 47.083975)",
         "PUGET SOUND ENERGY INC",
         "53067012226.0"
        ],
        [
         "3",
         "1C4JJXP62M",
         "Thurston",
         "Tenino",
         "WA",
         "98589.0",
         "2021",
         "JEEP",
         "WRANGLER",
         "Plug-in Hybrid Electric Vehicle (PHEV)",
         "Not eligible due to low battery range",
         "25",
         "0",
         "20.0",
         "154525493",
         "POINT (-122.85403 46.856085)",
         "PUGET SOUND ENERGY INC",
         "53067012620.0"
        ],
        [
         "4",
         "5YJ3E1EC9L",
         "Yakima",
         "Yakima",
         "WA",
         "98902.0",
         "2020",
         "TESLA",
         "MODEL 3",
         "Battery Electric Vehicle (BEV)",
         "Clean Alternative Fuel Vehicle Eligible",
         "308",
         "0",
         "14.0",
         "225996361",
         "POINT (-120.524012 46.5973939)",
         "PACIFICORP",
         "53077000800.0"
        ]
       ],
       "shape": {
        "columns": 17,
        "rows": 5
       }
      },
      "text/html": [
       "<div>\n",
       "<style scoped>\n",
       "    .dataframe tbody tr th:only-of-type {\n",
       "        vertical-align: middle;\n",
       "    }\n",
       "\n",
       "    .dataframe tbody tr th {\n",
       "        vertical-align: top;\n",
       "    }\n",
       "\n",
       "    .dataframe thead th {\n",
       "        text-align: right;\n",
       "    }\n",
       "</style>\n",
       "<table border=\"1\" class=\"dataframe\">\n",
       "  <thead>\n",
       "    <tr style=\"text-align: right;\">\n",
       "      <th></th>\n",
       "      <th>VIN (1-10)</th>\n",
       "      <th>County</th>\n",
       "      <th>City</th>\n",
       "      <th>State</th>\n",
       "      <th>Postal Code</th>\n",
       "      <th>Model Year</th>\n",
       "      <th>Make</th>\n",
       "      <th>Model</th>\n",
       "      <th>Electric Vehicle Type</th>\n",
       "      <th>Clean Alternative Fuel Vehicle (CAFV) Eligibility</th>\n",
       "      <th>Electric Range</th>\n",
       "      <th>Base MSRP</th>\n",
       "      <th>Legislative District</th>\n",
       "      <th>DOL Vehicle ID</th>\n",
       "      <th>Vehicle Location</th>\n",
       "      <th>Electric Utility</th>\n",
       "      <th>2020 Census Tract</th>\n",
       "    </tr>\n",
       "  </thead>\n",
       "  <tbody>\n",
       "    <tr>\n",
       "      <th>0</th>\n",
       "      <td>WAUTPBFF4H</td>\n",
       "      <td>King</td>\n",
       "      <td>Seattle</td>\n",
       "      <td>WA</td>\n",
       "      <td>98126.0</td>\n",
       "      <td>2017</td>\n",
       "      <td>AUDI</td>\n",
       "      <td>A3</td>\n",
       "      <td>Plug-in Hybrid Electric Vehicle (PHEV)</td>\n",
       "      <td>Not eligible due to low battery range</td>\n",
       "      <td>16</td>\n",
       "      <td>0</td>\n",
       "      <td>34.0</td>\n",
       "      <td>235085336</td>\n",
       "      <td>POINT (-122.374105 47.54468)</td>\n",
       "      <td>CITY OF SEATTLE - (WA)|CITY OF TACOMA - (WA)</td>\n",
       "      <td>5.303301e+10</td>\n",
       "    </tr>\n",
       "    <tr>\n",
       "      <th>1</th>\n",
       "      <td>WAUUPBFF2J</td>\n",
       "      <td>Thurston</td>\n",
       "      <td>Olympia</td>\n",
       "      <td>WA</td>\n",
       "      <td>98502.0</td>\n",
       "      <td>2018</td>\n",
       "      <td>AUDI</td>\n",
       "      <td>A3</td>\n",
       "      <td>Plug-in Hybrid Electric Vehicle (PHEV)</td>\n",
       "      <td>Not eligible due to low battery range</td>\n",
       "      <td>16</td>\n",
       "      <td>0</td>\n",
       "      <td>22.0</td>\n",
       "      <td>237896795</td>\n",
       "      <td>POINT (-122.943445 47.059252)</td>\n",
       "      <td>PUGET SOUND ENERGY INC</td>\n",
       "      <td>5.306701e+10</td>\n",
       "    </tr>\n",
       "    <tr>\n",
       "      <th>2</th>\n",
       "      <td>5YJSA1E22H</td>\n",
       "      <td>Thurston</td>\n",
       "      <td>Lacey</td>\n",
       "      <td>WA</td>\n",
       "      <td>98516.0</td>\n",
       "      <td>2017</td>\n",
       "      <td>TESLA</td>\n",
       "      <td>MODEL S</td>\n",
       "      <td>Battery Electric Vehicle (BEV)</td>\n",
       "      <td>Clean Alternative Fuel Vehicle Eligible</td>\n",
       "      <td>210</td>\n",
       "      <td>0</td>\n",
       "      <td>22.0</td>\n",
       "      <td>154498865</td>\n",
       "      <td>POINT (-122.78083 47.083975)</td>\n",
       "      <td>PUGET SOUND ENERGY INC</td>\n",
       "      <td>5.306701e+10</td>\n",
       "    </tr>\n",
       "    <tr>\n",
       "      <th>3</th>\n",
       "      <td>1C4JJXP62M</td>\n",
       "      <td>Thurston</td>\n",
       "      <td>Tenino</td>\n",
       "      <td>WA</td>\n",
       "      <td>98589.0</td>\n",
       "      <td>2021</td>\n",
       "      <td>JEEP</td>\n",
       "      <td>WRANGLER</td>\n",
       "      <td>Plug-in Hybrid Electric Vehicle (PHEV)</td>\n",
       "      <td>Not eligible due to low battery range</td>\n",
       "      <td>25</td>\n",
       "      <td>0</td>\n",
       "      <td>20.0</td>\n",
       "      <td>154525493</td>\n",
       "      <td>POINT (-122.85403 46.856085)</td>\n",
       "      <td>PUGET SOUND ENERGY INC</td>\n",
       "      <td>5.306701e+10</td>\n",
       "    </tr>\n",
       "    <tr>\n",
       "      <th>4</th>\n",
       "      <td>5YJ3E1EC9L</td>\n",
       "      <td>Yakima</td>\n",
       "      <td>Yakima</td>\n",
       "      <td>WA</td>\n",
       "      <td>98902.0</td>\n",
       "      <td>2020</td>\n",
       "      <td>TESLA</td>\n",
       "      <td>MODEL 3</td>\n",
       "      <td>Battery Electric Vehicle (BEV)</td>\n",
       "      <td>Clean Alternative Fuel Vehicle Eligible</td>\n",
       "      <td>308</td>\n",
       "      <td>0</td>\n",
       "      <td>14.0</td>\n",
       "      <td>225996361</td>\n",
       "      <td>POINT (-120.524012 46.5973939)</td>\n",
       "      <td>PACIFICORP</td>\n",
       "      <td>5.307700e+10</td>\n",
       "    </tr>\n",
       "  </tbody>\n",
       "</table>\n",
       "</div>"
      ],
      "text/plain": [
       "   VIN (1-10)    County     City State  Postal Code  Model Year   Make  \\\n",
       "0  WAUTPBFF4H      King  Seattle    WA      98126.0        2017   AUDI   \n",
       "1  WAUUPBFF2J  Thurston  Olympia    WA      98502.0        2018   AUDI   \n",
       "2  5YJSA1E22H  Thurston    Lacey    WA      98516.0        2017  TESLA   \n",
       "3  1C4JJXP62M  Thurston   Tenino    WA      98589.0        2021   JEEP   \n",
       "4  5YJ3E1EC9L    Yakima   Yakima    WA      98902.0        2020  TESLA   \n",
       "\n",
       "      Model                   Electric Vehicle Type  \\\n",
       "0        A3  Plug-in Hybrid Electric Vehicle (PHEV)   \n",
       "1        A3  Plug-in Hybrid Electric Vehicle (PHEV)   \n",
       "2   MODEL S          Battery Electric Vehicle (BEV)   \n",
       "3  WRANGLER  Plug-in Hybrid Electric Vehicle (PHEV)   \n",
       "4   MODEL 3          Battery Electric Vehicle (BEV)   \n",
       "\n",
       "  Clean Alternative Fuel Vehicle (CAFV) Eligibility  Electric Range  \\\n",
       "0             Not eligible due to low battery range              16   \n",
       "1             Not eligible due to low battery range              16   \n",
       "2           Clean Alternative Fuel Vehicle Eligible             210   \n",
       "3             Not eligible due to low battery range              25   \n",
       "4           Clean Alternative Fuel Vehicle Eligible             308   \n",
       "\n",
       "   Base MSRP  Legislative District  DOL Vehicle ID  \\\n",
       "0          0                  34.0       235085336   \n",
       "1          0                  22.0       237896795   \n",
       "2          0                  22.0       154498865   \n",
       "3          0                  20.0       154525493   \n",
       "4          0                  14.0       225996361   \n",
       "\n",
       "                 Vehicle Location  \\\n",
       "0    POINT (-122.374105 47.54468)   \n",
       "1   POINT (-122.943445 47.059252)   \n",
       "2    POINT (-122.78083 47.083975)   \n",
       "3    POINT (-122.85403 46.856085)   \n",
       "4  POINT (-120.524012 46.5973939)   \n",
       "\n",
       "                               Electric Utility  2020 Census Tract  \n",
       "0  CITY OF SEATTLE - (WA)|CITY OF TACOMA - (WA)       5.303301e+10  \n",
       "1                        PUGET SOUND ENERGY INC       5.306701e+10  \n",
       "2                        PUGET SOUND ENERGY INC       5.306701e+10  \n",
       "3                        PUGET SOUND ENERGY INC       5.306701e+10  \n",
       "4                                    PACIFICORP       5.307700e+10  "
      ]
     },
     "execution_count": 2,
     "metadata": {},
     "output_type": "execute_result"
    }
   ],
   "source": [
    "# Define the correct path to your dataset\n",
    "file_path = \"~/\"\n",
    "\n",
    "# Load data\n",
    "df = pd.read_csv(file_path)\n",
    "\n",
    "# Display basic info\n",
    "df.info()\n",
    "\n",
    "# Preview first few rows\n",
    "df.head()"
   ]
  },
  {
   "cell_type": "markdown",
   "metadata": {},
   "source": [
    "Step 2: Data Cleaning"
   ]
  },
  {
   "cell_type": "markdown",
   "metadata": {},
   "source": [
    "1. Identify and Count Missing Values"
   ]
  },
  {
   "cell_type": "code",
   "execution_count": 3,
   "metadata": {},
   "outputs": [
    {
     "data": {
      "text/plain": [
       "County                    3\n",
       "City                      3\n",
       "Postal Code               3\n",
       "Legislative District    398\n",
       "Vehicle Location          8\n",
       "Electric Utility          3\n",
       "2020 Census Tract         3\n",
       "dtype: int64"
      ]
     },
     "execution_count": 3,
     "metadata": {},
     "output_type": "execute_result"
    }
   ],
   "source": [
    "# Count missing values per column\n",
    "missing_values = df.isnull().sum()\n",
    "missing_values[missing_values > 0]"
   ]
  },
  {
   "cell_type": "markdown",
   "metadata": {},
   "source": [
    "2. Identify and Remove Duplicates"
   ]
  },
  {
   "cell_type": "code",
   "execution_count": 4,
   "metadata": {},
   "outputs": [
    {
     "name": "stdout",
     "output_type": "stream",
     "text": [
      "Number of duplicate rows: 0\n"
     ]
    }
   ],
   "source": [
    "# Check for duplicate rows\n",
    "duplicate_count = df.duplicated().sum()\n",
    "print(f\"Number of duplicate rows: {duplicate_count}\")\n",
    "\n",
    "# Remove duplicates\n",
    "df = df.drop_duplicates()"
   ]
  },
  {
   "cell_type": "markdown",
   "metadata": {},
   "source": [
    "3. Replace Missing Values"
   ]
  },
  {
   "cell_type": "code",
   "execution_count": 5,
   "metadata": {},
   "outputs": [
    {
     "name": "stdout",
     "output_type": "stream",
     "text": [
      "VIN (1-10)                                           0\n",
      "County                                               0\n",
      "City                                                 0\n",
      "State                                                0\n",
      "Postal Code                                          0\n",
      "Model Year                                           0\n",
      "Make                                                 0\n",
      "Model                                                0\n",
      "Electric Vehicle Type                                0\n",
      "Clean Alternative Fuel Vehicle (CAFV) Eligibility    0\n",
      "Electric Range                                       0\n",
      "Base MSRP                                            0\n",
      "Legislative District                                 0\n",
      "DOL Vehicle ID                                       0\n",
      "Vehicle Location                                     0\n",
      "Electric Utility                                     0\n",
      "2020 Census Tract                                    0\n",
      "dtype: int64\n"
     ]
    }
   ],
   "source": [
    "# Fill categorical missing values with mode (most frequent value)\n",
    "cat_cols = df.select_dtypes(include=['object']).columns\n",
    "df[cat_cols] = df[cat_cols].apply(lambda col: col.fillna(col.mode()[0]))\n",
    "\n",
    "# Fill numerical missing values\n",
    "num_cols = df.select_dtypes(include=['float64', 'int64']).columns\n",
    "df[num_cols] = df[num_cols].apply(lambda col: col.fillna(col.median()))\n",
    "\n",
    "# Verify missing values are filled\n",
    "print(df.isnull().sum())"
   ]
  },
  {
   "cell_type": "markdown",
   "metadata": {},
   "source": [
    "4. Detect and Handle Outliers in Base MSRP (Price) Using Statistical Methods"
   ]
  },
  {
   "cell_type": "code",
   "execution_count": 6,
   "metadata": {},
   "outputs": [
    {
     "name": "stdout",
     "output_type": "stream",
     "text": [
      "Number of outliers detected: 3312\n",
      "Outliers before replacement: \n",
      "\n",
      "     Base MSRP\n",
      "119      69900\n",
      "170      69900\n",
      "171      64950\n",
      "318      39995\n",
      "326      53400\n",
      "Number of outliers remaining after replacement: 0\n",
      "\n",
      "count    181458.0\n",
      "mean          0.0\n",
      "std           0.0\n",
      "min           0.0\n",
      "25%           0.0\n",
      "50%           0.0\n",
      "75%           0.0\n",
      "max           0.0\n",
      "Name: Base MSRP, dtype: float64\n"
     ]
    }
   ],
   "source": [
    "# Define the column for price analysis\n",
    "price_col = 'Base MSRP'\n",
    "\n",
    "# Compute Q1 (25th percentile) and Q3 (75th percentile)\n",
    "Q1 = df[price_col].quantile(0.25)\n",
    "Q3 = df[price_col].quantile(0.75)\n",
    "\n",
    "# Compute IQR\n",
    "IQR = Q3 - Q1\n",
    "\n",
    "# Define outlier bounds\n",
    "lower_bound = Q1 - 1.5 * IQR\n",
    "upper_bound = Q3 + 1.5 * IQR\n",
    "\n",
    "# Identify outliers before replacing\n",
    "outliers_before = df[(df[price_col] < lower_bound) | (df[price_col] > upper_bound)]\n",
    "print(f\"Number of outliers detected: {len(outliers_before)}\")\n",
    "print(\"Outliers before replacement:\", \"\\n\")\n",
    "print(outliers_before[[price_col]].head())\n",
    "\n",
    "# Cap outliers\n",
    "df[price_col] = np.where(df[price_col] > upper_bound, upper_bound, df[price_col])\n",
    "df[price_col] = np.where(df[price_col] < lower_bound, lower_bound, df[price_col])\n",
    "\n",
    "# Identify outliers after replacing\n",
    "outliers_after = df[(df[price_col] < lower_bound) | (df[price_col] > upper_bound)]\n",
    "print(f\"Number of outliers remaining after replacement: {len(outliers_after)}\")\n",
    "print(\"\")\n",
    "\n",
    "# Verify the changes\n",
    "print(df[price_col].describe())  "
   ]
  },
  {
   "cell_type": "markdown",
   "metadata": {},
   "source": [
    "5. Convert Categorical Data into Numerical Format"
   ]
  },
  {
   "cell_type": "code",
   "execution_count": 7,
   "metadata": {},
   "outputs": [
    {
     "name": "stdout",
     "output_type": "stream",
     "text": [
      "Categorical encoding complete.\n",
      "   Postal Code  Model Year  Electric Vehicle Type  Electric Range  Base MSRP  \\\n",
      "0      98126.0        2017                      1              16        0.0   \n",
      "1      98502.0        2018                      1              16        0.0   \n",
      "2      98516.0        2017                      0             210        0.0   \n",
      "3      98589.0        2021                      1              25        0.0   \n",
      "4      98902.0        2020                      0             308        0.0   \n",
      "\n",
      "   Legislative District  DOL Vehicle ID  2020 Census Tract  \\\n",
      "0                  34.0       235085336       5.303301e+10   \n",
      "1                  22.0       237896795       5.306701e+10   \n",
      "2                  22.0       154498865       5.306701e+10   \n",
      "3                  20.0       154525493       5.306701e+10   \n",
      "4                  14.0       225996361       5.307700e+10   \n",
      "\n",
      "   VIN (1-10)_1C4JJXN61P  VIN (1-10)_1C4JJXN62P  ...  \\\n",
      "0                  False                  False  ...   \n",
      "1                  False                  False  ...   \n",
      "2                  False                  False  ...   \n",
      "3                  False                  False  ...   \n",
      "4                  False                  False  ...   \n",
      "\n",
      "   Electric Utility_PORTLAND GENERAL ELECTRIC CO  \\\n",
      "0                                          False   \n",
      "1                                          False   \n",
      "2                                          False   \n",
      "3                                          False   \n",
      "4                                          False   \n",
      "\n",
      "   Electric Utility_PUD NO 1 OF CHELAN COUNTY  \\\n",
      "0                                       False   \n",
      "1                                       False   \n",
      "2                                       False   \n",
      "3                                       False   \n",
      "4                                       False   \n",
      "\n",
      "   Electric Utility_PUD NO 1 OF DOUGLAS COUNTY  \\\n",
      "0                                        False   \n",
      "1                                        False   \n",
      "2                                        False   \n",
      "3                                        False   \n",
      "4                                        False   \n",
      "\n",
      "   Electric Utility_PUD NO 1 OF OKANOGAN COUNTY  \\\n",
      "0                                         False   \n",
      "1                                         False   \n",
      "2                                         False   \n",
      "3                                         False   \n",
      "4                                         False   \n",
      "\n",
      "   Electric Utility_PUD NO 1 OF PEND OREILLE COUNTY  \\\n",
      "0                                             False   \n",
      "1                                             False   \n",
      "2                                             False   \n",
      "3                                             False   \n",
      "4                                             False   \n",
      "\n",
      "   Electric Utility_PUD NO 1 OF WHATCOM COUNTY  \\\n",
      "0                                        False   \n",
      "1                                        False   \n",
      "2                                        False   \n",
      "3                                        False   \n",
      "4                                        False   \n",
      "\n",
      "   Electric Utility_PUD NO 2 OF GRANT COUNTY  \\\n",
      "0                                      False   \n",
      "1                                      False   \n",
      "2                                      False   \n",
      "3                                      False   \n",
      "4                                      False   \n",
      "\n",
      "   Electric Utility_PUGET SOUND ENERGY INC  \\\n",
      "0                                    False   \n",
      "1                                     True   \n",
      "2                                     True   \n",
      "3                                     True   \n",
      "4                                    False   \n",
      "\n",
      "   Electric Utility_PUGET SOUND ENERGY INC||CITY OF TACOMA - (WA)  \\\n",
      "0                                              False                \n",
      "1                                              False                \n",
      "2                                              False                \n",
      "3                                              False                \n",
      "4                                              False                \n",
      "\n",
      "   Electric Utility_PUGET SOUND ENERGY INC||PUD NO 1 OF WHATCOM COUNTY  \n",
      "0                                              False                    \n",
      "1                                              False                    \n",
      "2                                              False                    \n",
      "3                                              False                    \n",
      "4                                              False                    \n",
      "\n",
      "[5 rows x 13154 columns]\n"
     ]
    }
   ],
   "source": [
    "from sklearn.preprocessing import LabelEncoder\n",
    "\n",
    "# Identify categorical columns\n",
    "cat_cols = df.select_dtypes(include=['object']).columns\n",
    "\n",
    "# Apply Label Encoding for binary categorical columns\n",
    "label_enc_cols = [col for col in cat_cols if df[col].nunique() == 2]\n",
    "le = LabelEncoder()\n",
    "for col in label_enc_cols:\n",
    "    df[col] = le.fit_transform(df[col])\n",
    "\n",
    "# Apply One-Hot Encoding for multi-class categorical columns\n",
    "multi_class_cols = [col for col in cat_cols if df[col].nunique() > 2]\n",
    "df = pd.get_dummies(df, columns=multi_class_cols, drop_first=True)\n",
    "\n",
    "print(\"Categorical encoding complete.\")\n",
    "print (df.head())"
   ]
  },
  {
   "cell_type": "markdown",
   "metadata": {},
   "source": [
    "Step 3: Exploratory Data Analysis (EDA)"
   ]
  },
  {
   "cell_type": "markdown",
   "metadata": {},
   "source": [
    "1. Calculate Summary Statistics"
   ]
  },
  {
   "cell_type": "code",
   "execution_count": 26,
   "metadata": {},
   "outputs": [
    {
     "name": "stdout",
     "output_type": "stream",
     "text": [
      "         Postal Code     Model Year  Electric Vehicle Type  Electric Range  \\\n",
      "count  181458.000000  181458.000000          181458.000000   181458.000000   \n",
      "mean    98174.049857    2020.581793               0.217599       57.826665   \n",
      "std      2414.222020       2.991140               0.412614       91.396074   \n",
      "min      1545.000000    1997.000000               0.000000        0.000000   \n",
      "25%     98052.000000    2019.000000               0.000000        0.000000   \n",
      "50%     98122.000000    2022.000000               0.000000        0.000000   \n",
      "75%     98370.000000    2023.000000               0.000000       75.000000   \n",
      "max     99577.000000    2024.000000               1.000000      337.000000   \n",
      "\n",
      "       Base MSRP  Legislative District  DOL Vehicle ID  2020 Census Tract  \n",
      "count   181458.0         181458.000000    1.814580e+05       1.814580e+05  \n",
      "mean         0.0             29.115443    2.214128e+08       5.297576e+10  \n",
      "std          0.0             14.877116    7.528561e+07       1.594863e+09  \n",
      "min          0.0              1.000000    4.385000e+03       1.001020e+09  \n",
      "25%          0.0             18.000000    1.830687e+08       5.303301e+10  \n",
      "50%          0.0             33.000000    2.289155e+08       5.303303e+10  \n",
      "75%          0.0             42.000000    2.561320e+08       5.305307e+10  \n",
      "max          0.0             49.000000    4.792548e+08       5.603300e+10  \n"
     ]
    }
   ],
   "source": [
    "# Summary statistics for numerical columns\n",
    "print(df.describe())"
   ]
  },
  {
   "cell_type": "markdown",
   "metadata": {},
   "source": [
    "2. Create Correlation Matrix"
   ]
  },
  {
   "cell_type": "code",
   "execution_count": null,
   "metadata": {},
   "outputs": [],
   "source": [
    "# Compute correlation matrix\n",
    "corr_matrix = df.corr()\n",
    "\n",
    "# Identify the strongest and weakest correlations\n",
    "strong_corr = corr_matrix.unstack().sort_values(ascending=False).drop_duplicates()\n",
    "print(\"Strongest Correlations:\\n\", strong_corr.head(10))\n",
    "print(\"\\nWeakest Correlations:\\n\", strong_corr.tail(10))"
   ]
  },
  {
   "cell_type": "markdown",
   "metadata": {},
   "source": [
    "Step 4: Visualizations"
   ]
  },
  {
   "cell_type": "code",
   "execution_count": null,
   "metadata": {},
   "outputs": [],
   "source": [
    "## 1. Histogram"
   ]
  },
  {
   "cell_type": "code",
   "execution_count": null,
   "metadata": {},
   "outputs": [],
   "source": [
    "plt.figure(figsize=(8,5))\n",
    "sns.histplot(df['price'], bins=30, kde=True)\n",
    "plt.title(\"Histogram of Price\")\n",
    "plt.show()"
   ]
  },
  {
   "cell_type": "code",
   "execution_count": null,
   "metadata": {},
   "outputs": [],
   "source": [
    "## 2. Pairplot"
   ]
  },
  {
   "cell_type": "code",
   "execution_count": null,
   "metadata": {},
   "outputs": [],
   "source": [
    "sns.pairplot(df[['price', 'horsepower', 'normalized_losses']])\n",
    "plt.show()"
   ]
  },
  {
   "cell_type": "code",
   "execution_count": null,
   "metadata": {},
   "outputs": [],
   "source": [
    "## 3. Heat Map"
   ]
  },
  {
   "cell_type": "code",
   "execution_count": null,
   "metadata": {},
   "outputs": [],
   "source": [
    "plt.figure(figsize=(10,6))\n",
    "sns.heatmap(df.corr(), annot=True, cmap=\"coolwarm\", linewidths=0.5)\n",
    "plt.title(\"Heatmap of Feature Correlations\")\n",
    "plt.show()"
   ]
  },
  {
   "cell_type": "code",
   "execution_count": null,
   "metadata": {},
   "outputs": [],
   "source": [
    "## 4. Violin Plot"
   ]
  },
  {
   "cell_type": "code",
   "execution_count": null,
   "metadata": {},
   "outputs": [],
   "source": [
    "plt.figure(figsize=(8,5))\n",
    "sns.violinplot(x=df['price'])\n",
    "plt.title(\"Violin Plot of Price\")\n",
    "plt.show()"
   ]
  },
  {
   "cell_type": "code",
   "execution_count": null,
   "metadata": {},
   "outputs": [],
   "source": [
    "## 5. Countplot"
   ]
  },
  {
   "cell_type": "code",
   "execution_count": null,
   "metadata": {},
   "outputs": [],
   "source": [
    "plt.figure(figsize=(8,5))\n",
    "sns.countplot(x=df['fuel_type'])\n",
    "plt.title(\"Count of Vehicles by Fuel Type\")\n",
    "plt.show()"
   ]
  },
  {
   "cell_type": "code",
   "execution_count": null,
   "metadata": {},
   "outputs": [],
   "source": [
    "## 6. Bubble Chart"
   ]
  },
  {
   "cell_type": "code",
   "execution_count": null,
   "metadata": {},
   "outputs": [],
   "source": [
    "plt.figure(figsize=(8,5))\n",
    "sns.scatterplot(x=df['horsepower'], y=df['price'], size=df['normalized_losses'], hue=df['fuel_type'], alpha=0.5)\n",
    "plt.title(\"Bubble Chart: Price vs Horsepower\")\n",
    "plt.show()"
   ]
  }
 ],
 "metadata": {
  "kernelspec": {
   "display_name": "myenv",
   "language": "python",
   "name": "python3"
  },
  "language_info": {
   "codemirror_mode": {
    "name": "ipython",
    "version": 3
   },
   "file_extension": ".py",
   "mimetype": "text/x-python",
   "name": "python",
   "nbconvert_exporter": "python",
   "pygments_lexer": "ipython3",
   "version": "3.12.3"
  }
 },
 "nbformat": 4,
 "nbformat_minor": 2
}
